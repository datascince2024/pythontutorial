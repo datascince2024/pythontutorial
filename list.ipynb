{
 "cells": [
  {
   "cell_type": "code",
   "execution_count": 1,
   "id": "1c5e7901-fa4c-405c-8997-1df1b809c2a4",
   "metadata": {},
   "outputs": [
    {
     "name": "stdout",
     "output_type": "stream",
     "text": [
      "['h', 'e', 'l', 'l', 'o']\n"
     ]
    }
   ],
   "source": [
    "s=list(\"hello\")\n",
    "print(s)"
   ]
  },
  {
   "cell_type": "code",
   "execution_count": 5,
   "id": "55d111aa-fc4b-4967-b13a-79f5ae91f059",
   "metadata": {},
   "outputs": [
    {
     "name": "stdout",
     "output_type": "stream",
     "text": [
      "66\n",
      "77\n"
     ]
    }
   ],
   "source": [
    "x=[33,34,55,66,77,88,99]\n",
    "print(x[3])\n",
    "print(x[-3])"
   ]
  },
  {
   "cell_type": "code",
   "execution_count": 14,
   "id": "1b27de71-0f1d-4e5d-b03e-d8b888433644",
   "metadata": {},
   "outputs": [
    {
     "name": "stdout",
     "output_type": "stream",
     "text": [
      "[89]\n",
      "45\n",
      "[45, 56, 67, 78, [67, 54, 343]]\n",
      "[67, 54, 343]\n",
      "54\n",
      "343\n"
     ]
    }
   ],
   "source": [
    "# nasted list\n",
    "\n",
    "x=[1,23,34,45,56,[45,56,67,78,[67,54,343]],5,[89]]\n",
    "print(x[7])\n",
    "print(x[-5])\n",
    "print(x[-3])\n",
    "print(x[5][4])\n",
    "print(x[5][4][1])\n",
    "print(x[-3][-1][-1"
   ]
  },
  {
   "cell_type": "code",
   "execution_count": 15,
   "id": "cfdde60a-ff1a-44a5-8693-440a82d71e3a",
   "metadata": {},
   "outputs": [
    {
     "name": "stdout",
     "output_type": "stream",
     "text": [
      "[45, 56, 67, 78, 89]\n",
      "[12, 23, 34, 45, 56, 67, 78, 89]\n",
      "[45, 56, 67, 78, 89, 98, 87]\n",
      "[12, 23, 34, 45, 56, 67, 78, 89, 98, 87]\n"
     ]
    }
   ],
   "source": [
    "x=[12,23,34,45,56,67,78,89,98,87]\n",
    "print(x[3:8])\n",
    "print(x[:8])\n",
    "print(x[3:])\n",
    "print(x[:])"
   ]
  },
  {
   "cell_type": "code",
   "execution_count": 24,
   "id": "a2ffbc09-a4aa-468b-9c83-6023a9dac962",
   "metadata": {},
   "outputs": [
    {
     "name": "stdout",
     "output_type": "stream",
     "text": [
      "[12, 23, 34, 45, 56, 59, 57, 44]\n",
      "[12, 23, 34, 45, 'milan', 59, 57, 44]\n",
      "[12, 23, 34, 'how', 'are', 'you', 57, 44]\n"
     ]
    }
   ],
   "source": [
    "#updation\n",
    "\n",
    "x=[12,23,34,45,56,59,57,44]\n",
    "print(x)\n",
    "x[4]=\"milan\"\n",
    "print(x)\n",
    "x[3:6]=[\"how\",\"are\",\"you\"]\n",
    "print(x)"
   ]
  },
  {
   "cell_type": "code",
   "execution_count": 28,
   "id": "b89d076b-3f9c-44e5-98f2-8eccb30a363e",
   "metadata": {},
   "outputs": [
    {
     "name": "stdout",
     "output_type": "stream",
     "text": [
      "[1, 23, 33, 45, 43, 45, 66, 778, 79, 9]\n",
      "[1, 23, 33, 43, 45, 66, 778, 79, 9]\n",
      "[1, 23, 66, 778, 79, 9]\n"
     ]
    }
   ],
   "source": [
    "# del\n",
    "\n",
    "p=[1,23,33,45,43,45,66,778,79,9]\n",
    "print(p)\n",
    "del p[3]\n",
    "print(p)\n",
    "del p[2:5]\n",
    "print(p)"
   ]
  },
  {
   "cell_type": "code",
   "execution_count": 31,
   "id": "347c3106-3c0a-4d81-ae8a-e5a511161afe",
   "metadata": {},
   "outputs": [
    {
     "name": "stdout",
     "output_type": "stream",
     "text": [
      "[12, 22, 223, 34, 43, 56, 76, 87, 98, 76]\n",
      "[12, 22, 223, 43, 56, 76, 87, 98, 76]\n"
     ]
    }
   ],
   "source": [
    "# pop()\n",
    "\n",
    "m=[12,22,223,34,43,56,76,87,98,76]\n",
    "print(m)\n",
    "m.pop(3)\n",
    "print(m)\n",
    "print(p)\n",
    "p.pop"
   ]
  },
  {
   "cell_type": "code",
   "execution_count": null,
   "id": "cfddcb84-4472-486f-83e7-0e1e1a92b2c9",
   "metadata": {},
   "outputs": [],
   "source": []
  }
 ],
 "metadata": {
  "kernelspec": {
   "display_name": "Python 3 (ipykernel)",
   "language": "python",
   "name": "python3"
  },
  "language_info": {
   "codemirror_mode": {
    "name": "ipython",
    "version": 3
   },
   "file_extension": ".py",
   "mimetype": "text/x-python",
   "name": "python",
   "nbconvert_exporter": "python",
   "pygments_lexer": "ipython3",
   "version": "3.11.7"
  }
 },
 "nbformat": 4,
 "nbformat_minor": 5
}
