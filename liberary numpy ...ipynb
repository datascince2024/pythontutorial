{
 "cells": [
  {
   "cell_type": "code",
   "execution_count": 1,
   "id": "af44a503-e133-43b1-80b1-b9dd67521462",
   "metadata": {},
   "outputs": [],
   "source": [
    "import numpy as np"
   ]
  },
  {
   "cell_type": "code",
   "execution_count": 2,
   "id": "b62d7627-31c0-43a2-9637-5e2af5a0ed18",
   "metadata": {},
   "outputs": [
    {
     "name": "stdout",
     "output_type": "stream",
     "text": [
      "[1 2 3]\n"
     ]
    }
   ],
   "source": [
    "a=np.array([1,2,3])\n",
    "print(a)"
   ]
  },
  {
   "cell_type": "code",
   "execution_count": 3,
   "id": "32897af7-b964-44a1-a730-fe8e801d6ae8",
   "metadata": {},
   "outputs": [
    {
     "name": "stdout",
     "output_type": "stream",
     "text": [
      "[1.  2.5 3. ]\n"
     ]
    }
   ],
   "source": [
    "a=np.array([1,2.5,3])\n",
    "print(a)"
   ]
  },
  {
   "cell_type": "code",
   "execution_count": 5,
   "id": "e4488d1b-becc-43eb-870d-284b978af529",
   "metadata": {},
   "outputs": [
    {
     "name": "stdout",
     "output_type": "stream",
     "text": [
      "['1' '2.5' '3' 'a']\n"
     ]
    }
   ],
   "source": [
    "a=np.array([1,2.5,3,'a'])\n",
    "print(a)"
   ]
  },
  {
   "cell_type": "code",
   "execution_count": 41,
   "id": "79ea19a3-1ae7-444a-be5c-7e582c41f237",
   "metadata": {},
   "outputs": [
    {
     "name": "stdout",
     "output_type": "stream",
     "text": [
      "[[1 2]\n",
      " [3 4]]\n"
     ]
    }
   ],
   "source": [
    "a=np.array([[1, 2],[3, 4]])\n",
    "print(a)"
   ]
  },
  {
   "cell_type": "code",
   "execution_count": 6,
   "id": "4fabdbd5-5080-4dc2-adf6-ca9828db1df8",
   "metadata": {},
   "outputs": [
    {
     "name": "stdout",
     "output_type": "stream",
     "text": [
      "[[1 2 3 4 5]]\n"
     ]
    }
   ],
   "source": [
    "# minimum dimensions\n",
    "import numpy as np\n",
    "\n",
    "a= np.array([1, 2, 3,4,5] ,ndmin=2)\n",
    "print(a)"
   ]
  },
  {
   "cell_type": "code",
   "execution_count": 7,
   "id": "c5a9fbe6-0ff1-4b72-b8dd-8afac964a969",
   "metadata": {},
   "outputs": [
    {
     "name": "stdout",
     "output_type": "stream",
     "text": [
      "[1.+0.j 2.+0.j 3.+0.j]\n"
     ]
    }
   ],
   "source": [
    "# dtype parameter\n",
    "import numpy as np\n",
    "a=np.array([1,2,3],dtype=complex)\n",
    "print(a)"
   ]
  },
  {
   "cell_type": "code",
   "execution_count": 8,
   "id": "d27d84f4-5da5-468d-9f50-0f22ed9738a4",
   "metadata": {},
   "outputs": [
    {
     "name": "stdout",
     "output_type": "stream",
     "text": [
      "[1 2 3]\n"
     ]
    }
   ],
   "source": [
    "# dtype parameter\n",
    "import numpy as np\n",
    "a=np.array([1.0,2.0,3.0],dtype=int)\n",
    "print(a)"
   ]
  },
  {
   "cell_type": "code",
   "execution_count": 9,
   "id": "7291cf2a-1c1c-493e-9323-82c861a6af64",
   "metadata": {},
   "outputs": [
    {
     "name": "stdout",
     "output_type": "stream",
     "text": [
      "[[1 2 3]\n",
      " [4 5 6]]\n",
      "\n",
      "(2, 3)\n"
     ]
    }
   ],
   "source": [
    "# ndarry.shape\n",
    "import numpy as np\n",
    "a=np.array([[1,2,3],[4,5,6]])\n",
    "print(a)\n",
    "print()\n",
    "print(a.shape)"
   ]
  },
  {
   "cell_type": "code",
   "execution_count": 10,
   "id": "49f30ecb-a697-41d2-87a9-f40f156cfc8d",
   "metadata": {},
   "outputs": [
    {
     "name": "stdout",
     "output_type": "stream",
     "text": [
      "[[1 2]\n",
      " [3 4]\n",
      " [5 6]]\n"
     ]
    }
   ],
   "source": [
    "a=np.array([[1,2,3],[4,5,6]])\n",
    "a.shape = (3,2)\n",
    "print(a)"
   ]
  },
  {
   "cell_type": "code",
   "execution_count": 11,
   "id": "2dbe5936-f787-45b0-945f-0fe4420bf6d6",
   "metadata": {},
   "outputs": [
    {
     "name": "stdout",
     "output_type": "stream",
     "text": [
      "[[1 2]\n",
      " [3 4]\n",
      " [5 6]]\n"
     ]
    }
   ],
   "source": [
    "a=np.array([[1,2,3],[4,5,6]])\n",
    "b=a.reshape(3,2)\n",
    "print(b)"
   ]
  },
  {
   "cell_type": "code",
   "execution_count": 12,
   "id": "accfda20-f9fc-44b2-984d-3b49072bb7a8",
   "metadata": {},
   "outputs": [
    {
     "name": "stdout",
     "output_type": "stream",
     "text": [
      "[0. 0. 0. 0. 0.]\n"
     ]
    }
   ],
   "source": [
    "#numpy.zeros\n",
    "\n",
    "x= np.zeros((5))\n",
    "print(x)"
   ]
  },
  {
   "cell_type": "code",
   "execution_count": 15,
   "id": "111cd8ce-f62f-440c-b327-24a639cabcf5",
   "metadata": {},
   "outputs": [
    {
     "name": "stdout",
     "output_type": "stream",
     "text": [
      "[1. 1. 1. 1. 1.]\n"
     ]
    }
   ],
   "source": [
    "#numpy.ones\n",
    "\n",
    "x=np.ones(5)\n",
    "print(x)"
   ]
  },
  {
   "cell_type": "code",
   "execution_count": 17,
   "id": "854f1d49-0bcc-4105-8479-718d53810b74",
   "metadata": {},
   "outputs": [
    {
     "name": "stdout",
     "output_type": "stream",
     "text": [
      "[[1 1]\n",
      " [1 1]]\n"
     ]
    }
   ],
   "source": [
    "x=np.ones([2,2],dtype=int)\n",
    "print(x)"
   ]
  },
  {
   "cell_type": "code",
   "execution_count": 3,
   "id": "d4ce812e-1372-43ee-834c-04f129f4e76d",
   "metadata": {},
   "outputs": [],
   "source": [
    "#create two matrix\n",
    "import numpy as np\n",
    "\n",
    "matrix1=np.array([[1,3],[5,7]])\n",
    "matrix2=np.array([[2,6],[4,8]])"
   ]
  },
  {
   "cell_type": "code",
   "execution_count": 4,
   "id": "482a59ff-c5ea-4dc9-9145-b156f68c0129",
   "metadata": {},
   "outputs": [
    {
     "name": "stdout",
     "output_type": "stream",
     "text": [
      "matrix1 x matrix2:\n",
      " [[14 30]\n",
      " [38 86]]\n"
     ]
    }
   ],
   "source": [
    "result=np.dot(matrix1,matrix2)\n",
    "print(\"matrix1 x matrix2:\\n\",result)"
   ]
  },
  {
   "cell_type": "code",
   "execution_count": 8,
   "id": "630e0cb2-c9ad-46b2-8e42-45733817878f",
   "metadata": {},
   "outputs": [
    {
     "name": "stdout",
     "output_type": "stream",
     "text": [
      "[[1 3]\n",
      " [5 7]]\n",
      "\n"
     ]
    }
   ],
   "source": [
    "import numpy as np\n",
    "\n",
    "matrix1=np.array([[1,3],[5,7]])\n",
    "print(matrix1)\n",
    "print()"
   ]
  },
  {
   "cell_type": "code",
   "execution_count": 9,
   "id": "73d8536d-bb10-4f67-a590-44463b6a87ce",
   "metadata": {},
   "outputs": [
    {
     "name": "stdout",
     "output_type": "stream",
     "text": [
      "[[1 5]\n",
      " [3 7]]\n"
     ]
    }
   ],
   "source": [
    "result=np.transpose(matrix1)\n",
    "print(result)"
   ]
  },
  {
   "cell_type": "code",
   "execution_count": 10,
   "id": "1b4c54d0-01ff-4e1b-9c6e-3666b47f9d98",
   "metadata": {},
   "outputs": [
    {
     "name": "stdout",
     "output_type": "stream",
     "text": [
      "[3 5 7]\n",
      "\n",
      "[5 6 7]\n",
      "\n"
     ]
    }
   ],
   "source": [
    "# numpy.hstack() function----\n",
    "\n",
    "import numpy as np \n",
    "x=np.array((3,5,7))\n",
    "print(x)\n",
    "print()\n",
    "y=np.array((5,6,7))\n",
    "print(y)\n",
    "print()"
   ]
  },
  {
   "cell_type": "code",
   "execution_count": 11,
   "id": "aa7e4ae6-d7f9-499a-b0e4-9d233ddae6cf",
   "metadata": {},
   "outputs": [
    {
     "name": "stdout",
     "output_type": "stream",
     "text": [
      "[3 5 7 5 6 7]\n"
     ]
    }
   ],
   "source": [
    "print(np.hstack((x,y)))"
   ]
  },
  {
   "cell_type": "code",
   "execution_count": 15,
   "id": "018deb24-95d2-40a2-a4cf-3e7d51ebca80",
   "metadata": {},
   "outputs": [
    {
     "name": "stdout",
     "output_type": "stream",
     "text": [
      "[[3]\n",
      " [5]\n",
      " [7]]\n",
      "\n",
      "[[5]\n",
      " [7]\n",
      " [9]]\n",
      "\n",
      "[[3 5]\n",
      " [5 7]\n",
      " [7 9]]\n"
     ]
    }
   ],
   "source": [
    "import numpy as np\n",
    "x=np.array([[3],[5],[7]])\n",
    "print(x)\n",
    "print()\n",
    "y=np.array([[5],[7],[9]])\n",
    "print(y)\n",
    "print()\n",
    "print(np.hstack((x,y)))"
   ]
  },
  {
   "cell_type": "code",
   "execution_count": 16,
   "id": "f36af3fc-c49d-414b-b1ef-f4ff1d6d9145",
   "metadata": {},
   "outputs": [
    {
     "name": "stdout",
     "output_type": "stream",
     "text": [
      "[3 5 7]\n",
      "\n",
      "[5 6 7]\n",
      "\n",
      "[[3 5 7]\n",
      " [5 6 7]]\n"
     ]
    }
   ],
   "source": [
    "# numpy.vstack() function----\n",
    "\n",
    "import numpy as np \n",
    "x=np.array((3,5,7))\n",
    "print(x)\n",
    "print()\n",
    "y=np.array((5,6,7))\n",
    "print(y)\n",
    "print()\n",
    "print(np.vstack((x,y)))"
   ]
  },
  {
   "cell_type": "code",
   "execution_count": 19,
   "id": "8e2e3e67-c225-4e1b-81c3-4dae20f829f7",
   "metadata": {},
   "outputs": [
    {
     "name": "stdout",
     "output_type": "stream",
     "text": [
      "[[3]\n",
      " [5]\n",
      " [7]]\n",
      "\n",
      "[[5]\n",
      " [7]\n",
      " [9]]\n",
      "\n",
      "[[3]\n",
      " [5]\n",
      " [7]\n",
      " [5]\n",
      " [7]\n",
      " [9]]\n"
     ]
    }
   ],
   "source": [
    "import numpy as np\n",
    "x=np.array([[3],[5],[7]])\n",
    "print(x)\n",
    "print()\n",
    "y=np.array([[5],[7],[9]])\n",
    "print(y)\n",
    "print()\n",
    "print(np.vstack((x,y)))"
   ]
  },
  {
   "cell_type": "code",
   "execution_count": 20,
   "id": "b182bfcf-3661-4b44-a2e6-50ae3baf0641",
   "metadata": {},
   "outputs": [
    {
     "name": "stdout",
     "output_type": "stream",
     "text": [
      "[ 0  1  2  3  4  5  6  7  8  9 10 11 12 13 14 15 16 17 18 19 20 21 22 23]\n"
     ]
    }
   ],
   "source": [
    "# an array of evenly spaced numbers\n",
    "import numpy as np \n",
    "a=np.arange(24)\n",
    "print(a)"
   ]
  },
  {
   "cell_type": "code",
   "execution_count": 21,
   "id": "caf9dad9-ccfe-408a-8750-1a98d3e73007",
   "metadata": {},
   "outputs": [
    {
     "data": {
      "text/plain": [
       "1"
      ]
     },
     "execution_count": 21,
     "metadata": {},
     "output_type": "execute_result"
    }
   ],
   "source": [
    "# this is one dim array\n",
    "import numpy as np\n",
    "a=np.arange(24)\n",
    "a.ndim"
   ]
  },
  {
   "cell_type": "code",
   "execution_count": 22,
   "id": "ca6f7ac2-4e25-490b-a6aa-394b6f560b3e",
   "metadata": {},
   "outputs": [
    {
     "name": "stdout",
     "output_type": "stream",
     "text": [
      "[0. 1. 2. 3. 4.]\n"
     ]
    }
   ],
   "source": [
    "import numpy as np\n",
    "x=np.arange(5, dtype= float)\n",
    "print(x)"
   ]
  },
  {
   "cell_type": "code",
   "execution_count": 25,
   "id": "290472ce-571f-4fba-a0fc-92098f5758f6",
   "metadata": {},
   "outputs": [
    {
     "name": "stdout",
     "output_type": "stream",
     "text": [
      "[10 12 14 16 18]\n"
     ]
    }
   ],
   "source": [
    "import numpy as np\n",
    "x=np.arange(10,20,2)\n",
    "print(x)"
   ]
  },
  {
   "cell_type": "code",
   "execution_count": 26,
   "id": "0d8e3c85-93dc-4b47-aa5d-bcc86bfcd82d",
   "metadata": {},
   "outputs": [
    {
     "name": "stdout",
     "output_type": "stream",
     "text": [
      "[10.  12.5 15.  17.5 20. ]\n"
     ]
    }
   ],
   "source": [
    "import numpy as np\n",
    "x=np.linspace(10,20,5)\n",
    "print(x)"
   ]
  },
  {
   "cell_type": "code",
   "execution_count": 29,
   "id": "84976ed3-5aa2-45e9-861c-1cd2f90d86b8",
   "metadata": {},
   "outputs": [
    {
     "name": "stdout",
     "output_type": "stream",
     "text": [
      "[10. 12. 14. 16. 18.]\n"
     ]
    }
   ],
   "source": [
    "#endpoint set to false \n",
    "import numpy as np\n",
    "x=np.linspace(10,20, 5, endpoint=False)\n",
    "print(x)"
   ]
  },
  {
   "cell_type": "code",
   "execution_count": 31,
   "id": "d79efd59-07db-4b91-ae8e-e7d6d0db1917",
   "metadata": {},
   "outputs": [
    {
     "name": "stdout",
     "output_type": "stream",
     "text": [
      "(array([1.  , 1.25, 1.5 , 1.75, 2.  ]), 0.25)\n"
     ]
    }
   ],
   "source": [
    "#find retstep value \n",
    "import numpy as np\n",
    "\n",
    "x=np.linspace(1,2,5, retstep=True)\n",
    "print(x)\n",
    "              "
   ]
  },
  {
   "cell_type": "code",
   "execution_count": 32,
   "id": "459e5fab-c1cb-4f2a-9e9d-3fa8ba0a93b4",
   "metadata": {},
   "outputs": [
    {
     "data": {
      "text/plain": [
       "array([[3, 3, 2],\n",
       "       [6, 9, 4],\n",
       "       [5, 5, 8]])"
      ]
     },
     "execution_count": 32,
     "metadata": {},
     "output_type": "execute_result"
    }
   ],
   "source": [
    "a=np.array([[3,3,2],[6,9,4],[5,5,8]])\n",
    "a"
   ]
  },
  {
   "cell_type": "code",
   "execution_count": 33,
   "id": "9270d55c-bf8b-4760-bdb4-63b906266616",
   "metadata": {},
   "outputs": [
    {
     "data": {
      "text/plain": [
       "45"
      ]
     },
     "execution_count": 33,
     "metadata": {},
     "output_type": "execute_result"
    }
   ],
   "source": [
    "np.sum(a)"
   ]
  },
  {
   "cell_type": "code",
   "execution_count": 34,
   "id": "00a7ae63-2eae-4a09-89cb-bcffd107d20a",
   "metadata": {},
   "outputs": [
    {
     "data": {
      "text/plain": [
       "array([14, 17, 14])"
      ]
     },
     "execution_count": 34,
     "metadata": {},
     "output_type": "execute_result"
    }
   ],
   "source": [
    "np.sum(a,axis=0)"
   ]
  },
  {
   "cell_type": "code",
   "execution_count": 35,
   "id": "5d8f39b2-01b6-4cce-87a4-4ad4b8b64381",
   "metadata": {},
   "outputs": [
    {
     "data": {
      "text/plain": [
       "array([ 8, 19, 18])"
      ]
     },
     "execution_count": 35,
     "metadata": {},
     "output_type": "execute_result"
    }
   ],
   "source": [
    "np.sum(a,axis=1)"
   ]
  },
  {
   "cell_type": "code",
   "execution_count": 36,
   "id": "65304130-3fe2-4f88-a89e-8ada52264c16",
   "metadata": {},
   "outputs": [
    {
     "data": {
      "text/plain": [
       "2"
      ]
     },
     "execution_count": 36,
     "metadata": {},
     "output_type": "execute_result"
    }
   ],
   "source": [
    "np.min(a)"
   ]
  },
  {
   "cell_type": "code",
   "execution_count": 37,
   "id": "7de6d57c-09b8-4154-a83c-193e977ca7d4",
   "metadata": {},
   "outputs": [
    {
     "data": {
      "text/plain": [
       "9"
      ]
     },
     "execution_count": 37,
     "metadata": {},
     "output_type": "execute_result"
    }
   ],
   "source": [
    "np.max(a)"
   ]
  },
  {
   "cell_type": "code",
   "execution_count": 38,
   "id": "7e44125c-8fb7-48d8-b16c-54a8a3f0d3e6",
   "metadata": {},
   "outputs": [
    {
     "data": {
      "text/plain": [
       "array([2, 4, 5])"
      ]
     },
     "execution_count": 38,
     "metadata": {},
     "output_type": "execute_result"
    }
   ],
   "source": [
    "np.min(a,axis=1)"
   ]
  },
  {
   "cell_type": "code",
   "execution_count": 39,
   "id": "c062fdbd-22e2-49aa-befe-42c7ea9290ba",
   "metadata": {},
   "outputs": [
    {
     "data": {
      "text/plain": [
       "array([6, 9, 8])"
      ]
     },
     "execution_count": 39,
     "metadata": {},
     "output_type": "execute_result"
    }
   ],
   "source": [
    "np.max(a,axis=0)"
   ]
  },
  {
   "cell_type": "code",
   "execution_count": 40,
   "id": "96a4b818-df69-41ba-8c5d-597c4ac05834",
   "metadata": {},
   "outputs": [
    {
     "data": {
      "text/plain": [
       "array([6, 9, 8])"
      ]
     },
     "execution_count": 40,
     "metadata": {},
     "output_type": "execute_result"
    }
   ],
   "source": [
    "np.max(a,axis=0)"
   ]
  },
  {
   "cell_type": "code",
   "execution_count": 2,
   "id": "8c23fedb-64e9-4995-a261-c21624e2fb7c",
   "metadata": {},
   "outputs": [
    {
     "name": "stdout",
     "output_type": "stream",
     "text": [
      "[1, '2', 3, 4, 5]\n",
      "[1, '2', 100, 4, 5]\n"
     ]
    }
   ],
   "source": [
    "# shallow and deep copy\n",
    "\n",
    "x=[1,\"2\",3,4,5]\n",
    "x1=x\n",
    "print(x1)\n",
    "x1[2]=100\n",
    "print(x1)"
   ]
  },
  {
   "cell_type": "code",
   "execution_count": 5,
   "id": "9d434854-fd2a-4b9f-9b2a-44685eb172bf",
   "metadata": {},
   "outputs": [
    {
     "data": {
      "text/plain": [
       "[1, 100, 100, 4, 5]"
      ]
     },
     "execution_count": 5,
     "metadata": {},
     "output_type": "execute_result"
    }
   ],
   "source": [
    "x2=x.copy()\n",
    "x2[1]=100\n",
    "x2"
   ]
  },
  {
   "cell_type": "code",
   "execution_count": 6,
   "id": "47a9fe4e-318b-4a7c-868a-eefcfcd96f4b",
   "metadata": {},
   "outputs": [
    {
     "data": {
      "text/plain": [
       "[[1, 2, 3], [4, 5, 6]]"
      ]
     },
     "execution_count": 6,
     "metadata": {},
     "output_type": "execute_result"
    }
   ],
   "source": [
    "l=[[1,2,3],[4,5,6]]\n",
    "l"
   ]
  },
  {
   "cell_type": "code",
   "execution_count": 7,
   "id": "2f18e351-1800-4ac9-b2db-0d1a174ddedf",
   "metadata": {},
   "outputs": [
    {
     "data": {
      "text/plain": [
       "[[1, 2, 3], [4, 5, 6]]"
      ]
     },
     "execution_count": 7,
     "metadata": {},
     "output_type": "execute_result"
    }
   ],
   "source": [
    "l2=l.copy()\n",
    "l2"
   ]
  },
  {
   "cell_type": "code",
   "execution_count": 8,
   "id": "a6d6321b-0ee4-4258-b5e5-3112e5c5af16",
   "metadata": {},
   "outputs": [
    {
     "data": {
      "text/plain": [
       "[[1, 2, 100], [4, 5, 6]]"
      ]
     },
     "execution_count": 8,
     "metadata": {},
     "output_type": "execute_result"
    }
   ],
   "source": [
    "l2[0][2]=100\n",
    "l2"
   ]
  },
  {
   "cell_type": "code",
   "execution_count": 9,
   "id": "0f7d7f62-acfa-4612-8cc6-2602b200bf90",
   "metadata": {},
   "outputs": [
    {
     "data": {
      "text/plain": [
       "[[1, 2, 100], [4, 5, 6]]"
      ]
     },
     "execution_count": 9,
     "metadata": {},
     "output_type": "execute_result"
    }
   ],
   "source": [
    "l"
   ]
  },
  {
   "cell_type": "code",
   "execution_count": 15,
   "id": "0af1ccf9-8882-4d2a-b2aa-fb502890c894",
   "metadata": {},
   "outputs": [
    {
     "data": {
      "text/plain": [
       "[[1, 2, 3], [4, 5, 6]]"
      ]
     },
     "execution_count": 15,
     "metadata": {},
     "output_type": "execute_result"
    }
   ],
   "source": [
    "import copy\n",
    "l=[[1,2,3],[4,5,6]]\n",
    "l2=copy.deepcopy(l)\n",
    "l2"
   ]
  },
  {
   "cell_type": "code",
   "execution_count": 16,
   "id": "4bc31550-9500-45cd-a722-6f3029dd0c7d",
   "metadata": {},
   "outputs": [
    {
     "data": {
      "text/plain": [
       "[[1, 2, 100], [4, 5, 6]]"
      ]
     },
     "execution_count": 16,
     "metadata": {},
     "output_type": "execute_result"
    }
   ],
   "source": [
    "l2[0][2]=100\n",
    "l2"
   ]
  },
  {
   "cell_type": "code",
   "execution_count": 17,
   "id": "796ebc6a-8263-4d5a-8b52-a8d4cb32db30",
   "metadata": {},
   "outputs": [
    {
     "data": {
      "text/plain": [
       "[[1, 2, 3], [4, 5, 6]]"
      ]
     },
     "execution_count": 17,
     "metadata": {},
     "output_type": "execute_result"
    }
   ],
   "source": [
    "l"
   ]
  },
  {
   "cell_type": "code",
   "execution_count": 27,
   "id": "b6829fde-967e-4a47-a568-d19200a9f71d",
   "metadata": {},
   "outputs": [
    {
     "name": "stdout",
     "output_type": "stream",
     "text": [
      "5\n"
     ]
    }
   ],
   "source": [
    "# random number generation \n",
    "\n",
    "import numpy as np\n",
    "randomnumber=np.random.randint(0,10)\n",
    "print(randomnumber)"
   ]
  },
  {
   "cell_type": "code",
   "execution_count": 30,
   "id": "663534c1-68ad-47af-8bf9-4bd6cf4bdbcb",
   "metadata": {},
   "outputs": [
    {
     "name": "stdout",
     "output_type": "stream",
     "text": [
      "9\n"
     ]
    }
   ],
   "source": [
    "from numpy import random\n",
    "randomnumber =random.randint(0,10)\n",
    "print(randomnumber)"
   ]
  },
  {
   "cell_type": "code",
   "execution_count": 34,
   "id": "1faceb3a-2aa1-4614-a2cd-e8793230edde",
   "metadata": {},
   "outputs": [
    {
     "name": "stdout",
     "output_type": "stream",
     "text": [
      "0.022549007610759286\n"
     ]
    }
   ],
   "source": [
    "import numpy as np\n",
    "randomnumber=np.random.rand()\n",
    "print(randomnumber)"
   ]
  },
  {
   "cell_type": "code",
   "execution_count": 41,
   "id": "0149d820-7699-436c-8791-2b79c4877aeb",
   "metadata": {},
   "outputs": [
    {
     "name": "stdout",
     "output_type": "stream",
     "text": [
      "1D Random Integer Array;\n",
      " [3 8 6 0 7]\n"
     ]
    }
   ],
   "source": [
    "integer_array=np.random.randint(0,10,5)\n",
    "print(\"1D Random Integer Array;\\n\",integer_array)"
   ]
  },
  {
   "cell_type": "code",
   "execution_count": 43,
   "id": "fbdd1067-7d25-41a6-aaf8-8fef0bc86535",
   "metadata": {},
   "outputs": [
    {
     "name": "stdout",
     "output_type": "stream",
     "text": [
      "\n",
      " 1D Random Array :\n",
      " [0.96943807 0.27781199 0.827353   0.33864973 0.2190089 ]\n"
     ]
    }
   ],
   "source": [
    "float_array=np.random.rand(5)\n",
    "print(\"\\n 1D Random Array :\\n\",float_array)"
   ]
  },
  {
   "cell_type": "code",
   "execution_count": 44,
   "id": "83c70b31-3313-4262-bc3b-5a0207bd9e4c",
   "metadata": {},
   "outputs": [
    {
     "name": "stdout",
     "output_type": "stream",
     "text": [
      "\n",
      "2D Random Integer Array:\n",
      " [[3 9 5 8]\n",
      " [5 9 5 5]\n",
      " [0 9 8 5]]\n"
     ]
    }
   ],
   "source": [
    "result=np.random.randint(0,10,(3,4))\n",
    "print(\"\\n2D Random Integer Array:\\n\",result)"
   ]
  },
  {
   "cell_type": "code",
   "execution_count": 51,
   "id": "4c8b7785-f7c7-4cbd-aba0-40ab9131bf5d",
   "metadata": {},
   "outputs": [
    {
     "name": "stdout",
     "output_type": "stream",
     "text": [
      "1\n"
     ]
    }
   ],
   "source": [
    "array1=np.array([1,2,3,4,5])\n",
    "\n",
    "random_choice=np.random.choice(array1)\n",
    "print(random_choice)"
   ]
  },
  {
   "cell_type": "code",
   "execution_count": 52,
   "id": "982a9319-f5d8-4c90-9521-90a48bbaeeb2",
   "metadata": {},
   "outputs": [
    {
     "data": {
      "text/plain": [
       "array([[-0.63564422, -0.95244882, -0.84838857,  0.35773762, -1.35114076],\n",
       "       [ 1.62807524,  2.11980979,  0.5168402 ,  0.9545346 ,  0.83706493],\n",
       "       [ 0.04562354, -1.05317095, -0.61922226,  1.32440858, -0.40671986],\n",
       "       [ 1.22453322,  1.06493714,  2.17947241,  0.03620888,  0.47904917],\n",
       "       [-0.28239421,  0.42761217, -0.4168558 , -0.87481256,  1.0772019 ]])"
      ]
     },
     "execution_count": 52,
     "metadata": {},
     "output_type": "execute_result"
    }
   ],
   "source": [
    "np.random.randn(5,5)"
   ]
  },
  {
   "cell_type": "code",
   "execution_count": 53,
   "id": "4662d2d5-2c4a-4a5d-92dd-8da2fa660fcd",
   "metadata": {},
   "outputs": [],
   "source": [
    "import numpy as np\n",
    "from numpy.random import randint as ri\n"
   ]
  },
  {
   "cell_type": "code",
   "execution_count": 57,
   "id": "37f80f42-3758-4eab-986a-f4e7ce49b3e5",
   "metadata": {},
   "outputs": [
    {
     "data": {
      "text/plain": [
       "array([[ 7, 14, 16, 76, 34,  5],\n",
       "       [64, 43, 58, 52, 17,  6],\n",
       "       [63, 86, 23, 65, 53, 54],\n",
       "       [73, 49,  8, 14, 61, 12],\n",
       "       [14, 53, 39, 66, 70, 53]])"
      ]
     },
     "execution_count": 57,
     "metadata": {},
     "output_type": "execute_result"
    }
   ],
   "source": [
    "np.random.seed(109)\n",
    "ri(1,100,(5,6))"
   ]
  },
  {
   "cell_type": "code",
   "execution_count": 61,
   "id": "574cdfcc-ce8e-490b-bb9c-8d5d61f76061",
   "metadata": {},
   "outputs": [],
   "source": [
    "np.random.seed(565)\n",
    "m=ri(1,100,25).reshape(5,5)"
   ]
  },
  {
   "cell_type": "code",
   "execution_count": 62,
   "id": "28410a77-a8ec-45ee-91e9-bdc217a775c8",
   "metadata": {},
   "outputs": [
    {
     "data": {
      "text/plain": [
       "array([[ 5, 46, 63, 14, 70],\n",
       "       [17,  2,  2, 11, 31],\n",
       "       [67, 46,  4, 55, 94],\n",
       "       [62, 73, 63, 81, 90],\n",
       "       [72, 50, 68, 46, 37]])"
      ]
     },
     "execution_count": 62,
     "metadata": {},
     "output_type": "execute_result"
    }
   ],
   "source": [
    "m"
   ]
  },
  {
   "cell_type": "code",
   "execution_count": 63,
   "id": "3266f584-3b6d-4485-aae4-f1de3ba47932",
   "metadata": {},
   "outputs": [
    {
     "data": {
      "text/plain": [
       "array([[ 5, 14, 46, 63, 70],\n",
       "       [ 2,  2, 11, 17, 31],\n",
       "       [ 4, 46, 55, 67, 94],\n",
       "       [62, 63, 73, 81, 90],\n",
       "       [37, 46, 50, 68, 72]])"
      ]
     },
     "execution_count": 63,
     "metadata": {},
     "output_type": "execute_result"
    }
   ],
   "source": [
    "np.sort(m)"
   ]
  },
  {
   "cell_type": "code",
   "execution_count": 64,
   "id": "0e3fa310-1329-4009-a54e-a7fe5aa6cf28",
   "metadata": {},
   "outputs": [
    {
     "data": {
      "text/plain": [
       "array([[ 5,  2,  2, 11, 31],\n",
       "       [17, 46,  4, 14, 37],\n",
       "       [62, 46, 63, 46, 70],\n",
       "       [67, 50, 63, 55, 90],\n",
       "       [72, 73, 68, 81, 94]])"
      ]
     },
     "execution_count": 64,
     "metadata": {},
     "output_type": "execute_result"
    }
   ],
   "source": [
    "np.sort(m, axis=0)"
   ]
  },
  {
   "cell_type": "code",
   "execution_count": 65,
   "id": "12952a53-cfad-4698-8ce5-e30807d39b8d",
   "metadata": {},
   "outputs": [
    {
     "data": {
      "text/plain": [
       "array([[73, 86, 60, 91, 43],\n",
       "       [97, 63, 63, 79, 43],\n",
       "       [12, 16, 94, 56, 50],\n",
       "       [61, 82, 17,  2, 89],\n",
       "       [82, 69, 79, 51, 64],\n",
       "       [14, 49, 52, 67, 83]])"
      ]
     },
     "execution_count": 65,
     "metadata": {},
     "output_type": "execute_result"
    }
   ],
   "source": [
    "a=ri(1,100,30)\n",
    "b=a.reshape(6,5)\n",
    "b"
   ]
  },
  {
   "cell_type": "code",
   "execution_count": 66,
   "id": "9e779712-c155-4b6a-967e-ad99cbbdaece",
   "metadata": {},
   "outputs": [
    {
     "data": {
      "text/plain": [
       "array([73, 86, 60, 91, 43, 97, 63, 63, 79, 43, 12, 16, 94, 56, 50, 61, 82,\n",
       "       17,  2, 89, 82, 69, 79, 51, 64, 14, 49, 52, 67, 83])"
      ]
     },
     "execution_count": 66,
     "metadata": {},
     "output_type": "execute_result"
    }
   ],
   "source": [
    "a"
   ]
  },
  {
   "cell_type": "code",
   "execution_count": 68,
   "id": "9b7b1442-718d-4858-87e8-86fc737432fb",
   "metadata": {},
   "outputs": [
    {
     "data": {
      "text/plain": [
       "97"
      ]
     },
     "execution_count": 68,
     "metadata": {},
     "output_type": "execute_result"
    }
   ],
   "source": [
    "a.max()"
   ]
  },
  {
   "cell_type": "code",
   "execution_count": 70,
   "id": "74bda150-7698-4eff-8ec8-518ed5869c0e",
   "metadata": {},
   "outputs": [
    {
     "data": {
      "text/plain": [
       "5"
      ]
     },
     "execution_count": 70,
     "metadata": {},
     "output_type": "execute_result"
    }
   ],
   "source": [
    "a.argmax()"
   ]
  },
  {
   "cell_type": "code",
   "execution_count": 71,
   "id": "3b9391f3-1dc1-4df1-9f0c-514197789edd",
   "metadata": {},
   "outputs": [
    {
     "data": {
      "text/plain": [
       "array([2, 3, 4, 5, 0, 1], dtype=int64)"
      ]
     },
     "execution_count": 71,
     "metadata": {},
     "output_type": "execute_result"
    }
   ],
   "source": [
    "x=[121,2321,34,45,56,65]\n",
    "a=np.array(x)\n",
    "a.argsort()"
   ]
  },
  {
   "cell_type": "code",
   "execution_count": 72,
   "id": "2298dc4a-bba6-4d38-8e17-e702db3edc08",
   "metadata": {},
   "outputs": [
    {
     "data": {
      "text/plain": [
       "5"
      ]
     },
     "execution_count": 72,
     "metadata": {},
     "output_type": "execute_result"
    }
   ],
   "source": [
    "b.argmax()"
   ]
  },
  {
   "cell_type": "code",
   "execution_count": 73,
   "id": "f8385ce3-6da1-4cd5-b3ce-61f4cbc2f68a",
   "metadata": {},
   "outputs": [
    {
     "data": {
      "text/plain": [
       "array([1, 0, 2, 0, 3], dtype=int64)"
      ]
     },
     "execution_count": 73,
     "metadata": {},
     "output_type": "execute_result"
    }
   ],
   "source": [
    "b.argmax(axis=0)"
   ]
  },
  {
   "cell_type": "code",
   "execution_count": 74,
   "id": "b29184ba-7199-4fb2-ad3f-3c292b780cba",
   "metadata": {},
   "outputs": [
    {
     "name": "stdout",
     "output_type": "stream",
     "text": [
      "[ 1  2  3  4  5  6  7  8  9 10 11 12 13 14 15 16 17 18 19 20]\n"
     ]
    }
   ],
   "source": [
    "a=np.arange(1,21)\n",
    "print(a)"
   ]
  },
  {
   "cell_type": "code",
   "execution_count": 75,
   "id": "8678e3da-550b-485b-b4b1-1177c08c73fe",
   "metadata": {},
   "outputs": [
    {
     "data": {
      "text/plain": [
       "array([False, False, False, False, False, False, False, False, False,\n",
       "       False,  True,  True,  True,  True,  True,  True,  True,  True,\n",
       "        True,  True])"
      ]
     },
     "execution_count": 75,
     "metadata": {},
     "output_type": "execute_result"
    }
   ],
   "source": [
    "a>10"
   ]
  },
  {
   "cell_type": "code",
   "execution_count": 76,
   "id": "105aa776-61be-48b6-a37f-78b5e41a0558",
   "metadata": {},
   "outputs": [
    {
     "data": {
      "text/plain": [
       "array([11, 12, 13, 14, 15, 16, 17, 18, 19, 20])"
      ]
     },
     "execution_count": 76,
     "metadata": {},
     "output_type": "execute_result"
    }
   ],
   "source": [
    "a[a>10]"
   ]
  },
  {
   "cell_type": "code",
   "execution_count": 77,
   "id": "d2afc4cd-9615-436e-82ed-49c805d6b8ed",
   "metadata": {},
   "outputs": [
    {
     "data": {
      "text/plain": [
       "array([1, 2, 3, 4, 5, 6, 7, 8, 9])"
      ]
     },
     "execution_count": 77,
     "metadata": {},
     "output_type": "execute_result"
    }
   ],
   "source": [
    "a[a<10]"
   ]
  },
  {
   "cell_type": "code",
   "execution_count": 78,
   "id": "e899ae3d-0819-4830-a59a-a44c53547c40",
   "metadata": {},
   "outputs": [
    {
     "data": {
      "text/plain": [
       "array([ 2,  4,  6,  8, 10, 12, 14, 16, 18, 20])"
      ]
     },
     "execution_count": 78,
     "metadata": {},
     "output_type": "execute_result"
    }
   ],
   "source": [
    "a[a%2==0]"
   ]
  },
  {
   "cell_type": "code",
   "execution_count": 79,
   "id": "9777c17d-d99b-45c7-8685-6fcdb3020a1d",
   "metadata": {},
   "outputs": [
    {
     "data": {
      "text/plain": [
       "array([ 1,  3,  5,  7,  9, 11, 13, 15, 17, 19])"
      ]
     },
     "execution_count": 79,
     "metadata": {},
     "output_type": "execute_result"
    }
   ],
   "source": [
    "a[a%2 !=0]"
   ]
  },
  {
   "cell_type": "code",
   "execution_count": 80,
   "id": "fe61381a-8fa5-4c51-b4f3-8f22a3bd7d68",
   "metadata": {},
   "outputs": [
    {
     "data": {
      "text/plain": [
       "array([5])"
      ]
     },
     "execution_count": 80,
     "metadata": {},
     "output_type": "execute_result"
    }
   ],
   "source": [
    "a[a==5]"
   ]
  },
  {
   "cell_type": "code",
   "execution_count": 81,
   "id": "89f23a56-7a03-4c6d-84dc-f246351aa73b",
   "metadata": {},
   "outputs": [
    {
     "data": {
      "text/plain": [
       "array([1, 2, 3, 4])"
      ]
     },
     "execution_count": 81,
     "metadata": {},
     "output_type": "execute_result"
    }
   ],
   "source": [
    "a[a<5]"
   ]
  },
  {
   "cell_type": "code",
   "execution_count": 83,
   "id": "5f9f7cb8-f682-4109-aeca-b5a9afe601e2",
   "metadata": {},
   "outputs": [],
   "source": [
    "a[a%2 !=0]=0"
   ]
  },
  {
   "cell_type": "code",
   "execution_count": 84,
   "id": "518a3dfb-18f5-49a5-a96b-52cb26317abc",
   "metadata": {},
   "outputs": [
    {
     "data": {
      "text/plain": [
       "array([ 0,  2,  0,  4,  0,  6,  0,  8,  0, 10,  0, 12,  0, 14,  0, 16,  0,\n",
       "       18,  0, 20])"
      ]
     },
     "execution_count": 84,
     "metadata": {},
     "output_type": "execute_result"
    }
   ],
   "source": [
    "a"
   ]
  },
  {
   "cell_type": "code",
   "execution_count": 1,
   "id": "15550961-b874-47dd-ace9-5fa0ff944221",
   "metadata": {},
   "outputs": [],
   "source": [
    "import numpy as np"
   ]
  },
  {
   "cell_type": "code",
   "execution_count": 2,
   "id": "4c2a7cc9-4c3b-4c3d-939a-466fd0115daa",
   "metadata": {},
   "outputs": [
    {
     "name": "stdout",
     "output_type": "stream",
     "text": [
      "[1 2 3 4 5 2]\n"
     ]
    }
   ],
   "source": [
    "a=np.array([1,2,3,4,5,2])\n",
    "print(a)"
   ]
  },
  {
   "cell_type": "code",
   "execution_count": 4,
   "id": "1e910b9f-be16-4603-aa92-556758dc8146",
   "metadata": {},
   "outputs": [
    {
     "data": {
      "text/plain": [
       "1"
      ]
     },
     "execution_count": 4,
     "metadata": {},
     "output_type": "execute_result"
    }
   ],
   "source": [
    "a.ndim"
   ]
  },
  {
   "cell_type": "code",
   "execution_count": 5,
   "id": "baca638e-dc65-44cc-ae4f-3d3dcd3b0715",
   "metadata": {},
   "outputs": [
    {
     "data": {
      "text/plain": [
       "(6,)"
      ]
     },
     "execution_count": 5,
     "metadata": {},
     "output_type": "execute_result"
    }
   ],
   "source": [
    "a.shape"
   ]
  },
  {
   "cell_type": "code",
   "execution_count": 6,
   "id": "9c51ffb7-cb56-4135-b2d3-d0687373fdc0",
   "metadata": {},
   "outputs": [
    {
     "data": {
      "text/plain": [
       "(array([1, 5], dtype=int64),)"
      ]
     },
     "execution_count": 6,
     "metadata": {},
     "output_type": "execute_result"
    }
   ],
   "source": [
    "x=np.where(a==2)\n",
    "x"
   ]
  },
  {
   "cell_type": "code",
   "execution_count": 7,
   "id": "c1f536c8-4da1-4db1-81f7-b06c35fa8f6e",
   "metadata": {},
   "outputs": [
    {
     "data": {
      "text/plain": [
       "(array([2], dtype=int64),)"
      ]
     },
     "execution_count": 7,
     "metadata": {},
     "output_type": "execute_result"
    }
   ],
   "source": [
    "np.where(a==3)"
   ]
  },
  {
   "cell_type": "code",
   "execution_count": 8,
   "id": "ed354331-338d-4127-ba56-bf64d1e4cbb7",
   "metadata": {},
   "outputs": [
    {
     "name": "stdout",
     "output_type": "stream",
     "text": [
      "[1 2 3 4 5 6]\n"
     ]
    }
   ],
   "source": [
    "b=np.array([1,2,3,4,5,6])\n",
    "print(b)"
   ]
  },
  {
   "cell_type": "code",
   "execution_count": 9,
   "id": "fd951434-36bf-4ab8-a173-f076f52ce6bf",
   "metadata": {},
   "outputs": [
    {
     "data": {
      "text/plain": [
       "(array([0, 1, 2], dtype=int64),)"
      ]
     },
     "execution_count": 9,
     "metadata": {},
     "output_type": "execute_result"
    }
   ],
   "source": [
    "np.where(b<4)"
   ]
  },
  {
   "cell_type": "code",
   "execution_count": 10,
   "id": "257f495b-e66c-4ffd-a856-b872072861bc",
   "metadata": {},
   "outputs": [
    {
     "name": "stdout",
     "output_type": "stream",
     "text": [
      "[ 1  2  3  4  5  6  7  8  9 10]\n"
     ]
    }
   ],
   "source": [
    "x=np.array([1,2,3,4,5,6,7,8,9,10])\n",
    "print(x)"
   ]
  },
  {
   "cell_type": "code",
   "execution_count": 11,
   "id": "c8659d2d-768e-4f31-9363-9fe9a1e011d7",
   "metadata": {},
   "outputs": [
    {
     "data": {
      "text/plain": [
       "(array([1, 3, 5, 7, 9], dtype=int64),)"
      ]
     },
     "execution_count": 11,
     "metadata": {},
     "output_type": "execute_result"
    }
   ],
   "source": [
    "# even number\n",
    "np.where(x%2==0)"
   ]
  },
  {
   "cell_type": "code",
   "execution_count": 12,
   "id": "24e164f6-d21f-4d45-b828-616e8a59722a",
   "metadata": {},
   "outputs": [
    {
     "data": {
      "text/plain": [
       "(array([0, 2, 4, 6, 8], dtype=int64),)"
      ]
     },
     "execution_count": 12,
     "metadata": {},
     "output_type": "execute_result"
    }
   ],
   "source": [
    "#odd number\n",
    "np.where(x%2!=0)"
   ]
  },
  {
   "cell_type": "code",
   "execution_count": 16,
   "id": "b19186f9-fbb1-4cfa-abd1-e193c0a3579e",
   "metadata": {},
   "outputs": [
    {
     "name": "stdout",
     "output_type": "stream",
     "text": [
      "[ 1  2  3  4  5  6  7  9 10 12 34 40]\n"
     ]
    }
   ],
   "source": [
    "#searchshorted\n",
    "x=np.array([1,2,3,4,5,6,7,9,10,12,34,40])\n",
    "print(x)"
   ]
  },
  {
   "cell_type": "code",
   "execution_count": 18,
   "id": "755e21d3-72ee-47b2-9427-953eeb4a0d98",
   "metadata": {},
   "outputs": [
    {
     "data": {
      "text/plain": [
       "7"
      ]
     },
     "execution_count": 18,
     "metadata": {},
     "output_type": "execute_result"
    }
   ],
   "source": [
    "np.searchsorted(x,8)"
   ]
  },
  {
   "cell_type": "code",
   "execution_count": 20,
   "id": "c01cbe64-6510-4f40-b714-f59f3423929e",
   "metadata": {},
   "outputs": [
    {
     "name": "stdout",
     "output_type": "stream",
     "text": [
      "[[ 1  2  3  4  5]\n",
      " [12 23 34 55 76]\n",
      " [65 43 21 32 54]\n",
      " [ 8  7  6  5  4]\n",
      " [98 87 65 78 67]]\n"
     ]
    }
   ],
   "source": [
    "x=np.array([[1,2,3,4,5],[12,23,34,55,76],[65,43,21,32,54],[8,7,6,5,4],[98,87,65,78,67]])\n",
    "print(x)"
   ]
  },
  {
   "cell_type": "code",
   "execution_count": 21,
   "id": "df3150cd-9a5a-4258-bc82-0b6607d2bf3f",
   "metadata": {},
   "outputs": [
    {
     "data": {
      "text/plain": [
       "array([[23, 34],\n",
       "       [43, 21]])"
      ]
     },
     "execution_count": 21,
     "metadata": {},
     "output_type": "execute_result"
    }
   ],
   "source": [
    "x[1:3,1:3]"
   ]
  },
  {
   "cell_type": "code",
   "execution_count": 23,
   "id": "4435d877-fc7a-4d4f-94fc-82c5d0b403c2",
   "metadata": {},
   "outputs": [
    {
     "data": {
      "text/plain": [
       "array([[21, 32],\n",
       "       [ 6,  5]])"
      ]
     },
     "execution_count": 23,
     "metadata": {},
     "output_type": "execute_result"
    }
   ],
   "source": [
    "x[2:4,2:4]"
   ]
  },
  {
   "cell_type": "code",
   "execution_count": 25,
   "id": "28e5f96d-0c36-4903-afe5-afaf78cddf1d",
   "metadata": {},
   "outputs": [
    {
     "data": {
      "text/plain": [
       "array([[ 7,  6],\n",
       "       [87, 65]])"
      ]
     },
     "execution_count": 25,
     "metadata": {},
     "output_type": "execute_result"
    }
   ],
   "source": [
    "x[3:,1:3]"
   ]
  },
  {
   "cell_type": "code",
   "execution_count": 26,
   "id": "b0ac86c7-115c-4e18-b088-fbe602b52d6f",
   "metadata": {},
   "outputs": [
    {
     "data": {
      "text/plain": [
       "28"
      ]
     },
     "execution_count": 26,
     "metadata": {},
     "output_type": "execute_result"
    }
   ],
   "source": [
    "#comparison b/w list and array\n",
    "import sys\n",
    "import time \n",
    "\n",
    "\n",
    "\n",
    "sys.getsizeof(100)"
   ]
  },
  {
   "cell_type": "code",
   "execution_count": 29,
   "id": "6609245b-761c-4464-8a3d-f6aadade8a87",
   "metadata": {},
   "outputs": [
    {
     "name": "stdout",
     "output_type": "stream",
     "text": [
      "5600000\n"
     ]
    }
   ],
   "source": [
    "l=range(200000)\n",
    "print(sys.getsizeof(4)*len(l))"
   ]
  },
  {
   "cell_type": "code",
   "execution_count": 30,
   "id": "cbdaeaa6-ecef-40de-8883-bf94a9f64ff2",
   "metadata": {},
   "outputs": [
    {
     "name": "stdout",
     "output_type": "stream",
     "text": [
      "4\n",
      "\n",
      "800000\n"
     ]
    }
   ],
   "source": [
    "import numpy as np\n",
    "a=np.arange(200000)\n",
    "print(a.itemsize)\n",
    "print()\n",
    "\n",
    "print(a.itemsize*len(a))"
   ]
  },
  {
   "cell_type": "code",
   "execution_count": 31,
   "id": "ca3971ef-7279-46e0-868f-13a905957cbd",
   "metadata": {},
   "outputs": [],
   "source": [
    "#fast"
   ]
  },
  {
   "cell_type": "code",
   "execution_count": 34,
   "id": "b5c585fc-7b69-49f9-b496-2f7a1c228a2c",
   "metadata": {},
   "outputs": [
    {
     "name": "stdout",
     "output_type": "stream",
     "text": [
      "time taken : 140.64955711364746\n"
     ]
    }
   ],
   "source": [
    "a1=range(1000000)\n",
    "b1=range(1000000)\n",
    "\n",
    "start=time.time()\n",
    "c1=[(x+y) for x,y in zip(a1,b1)]\n",
    "print(\"time taken :\",(time.time()-start)*1000)"
   ]
  },
  {
   "cell_type": "code",
   "execution_count": 35,
   "id": "61f4fdff-e4e5-47ea-93ec-cc0d300776f0",
   "metadata": {},
   "outputs": [
    {
     "name": "stdout",
     "output_type": "stream",
     "text": [
      "time taken by array: 0.0\n"
     ]
    }
   ],
   "source": [
    "a2=np.arange(1000000)\n",
    "b2=np.arange(1000000)\n",
    "\n",
    "start=time.time()\n",
    "c2=a2+b2\n",
    "print(\"time taken by array:\",(time.time()-start)*1000)"
   ]
  },
  {
   "cell_type": "code",
   "execution_count": 36,
   "id": "f73c19eb-8141-4672-8e6d-c7ac257d4b15",
   "metadata": {},
   "outputs": [
    {
     "data": {
      "text/plain": [
       "array([   0,    1,    4,    9,   16,   25,   36,   49,   64,   81,  100,\n",
       "        121,  144,  169,  196,  225,  256,  289,  324,  361,  400,  441,\n",
       "        484,  529,  576,  625,  676,  729,  784,  841,  900,  961, 1024,\n",
       "       1089, 1156, 1225, 1296, 1369, 1444, 1521, 1600, 1681, 1764, 1849,\n",
       "       1936, 2025, 2116, 2209, 2304, 2401, 2500, 2601, 2704, 2809, 2916,\n",
       "       3025, 3136, 3249, 3364, 3481, 3600, 3721, 3844, 3969, 4096, 4225,\n",
       "       4356, 4489, 4624, 4761, 4900, 5041, 5184, 5329, 5476, 5625, 5776,\n",
       "       5929, 6084, 6241, 6400, 6561, 6724, 6889, 7056, 7225, 7396, 7569,\n",
       "       7744, 7921, 8100, 8281, 8464, 8649, 8836, 9025, 9216, 9409, 9604,\n",
       "       9801])"
      ]
     },
     "execution_count": 36,
     "metadata": {},
     "output_type": "execute_result"
    }
   ],
   "source": [
    "n1=np.arange(100)\n",
    "n2=np.arange(100)\n",
    "n1*n2\n"
   ]
  },
  {
   "cell_type": "code",
   "execution_count": 38,
   "id": "36b792dd-9cf1-4bbf-b2b0-04b22c3e242a",
   "metadata": {},
   "outputs": [
    {
     "data": {
      "text/plain": [
       "array([ 0,  1,  2,  3,  4,  5,  6,  7,  8,  9, 10, 11, 12, 13, 14, 15, 16,\n",
       "       17, 18, 19, 20, 21, 22, 23])"
      ]
     },
     "execution_count": 38,
     "metadata": {},
     "output_type": "execute_result"
    }
   ],
   "source": [
    "a=np.arange(24)\n",
    "a"
   ]
  },
  {
   "cell_type": "code",
   "execution_count": 40,
   "id": "cacdff81-f0d8-441e-861b-b04462e248dd",
   "metadata": {},
   "outputs": [
    {
     "data": {
      "text/plain": [
       "[0, 1, 2, 3, 4]"
      ]
     },
     "execution_count": 40,
     "metadata": {},
     "output_type": "execute_result"
    }
   ],
   "source": [
    "list (range(5))"
   ]
  },
  {
   "cell_type": "code",
   "execution_count": 41,
   "id": "085f27ec-544e-4adb-93fd-fb3b6441e68b",
   "metadata": {},
   "outputs": [
    {
     "data": {
      "text/plain": [
       "(24,)"
      ]
     },
     "execution_count": 41,
     "metadata": {},
     "output_type": "execute_result"
    }
   ],
   "source": [
    "a.shape"
   ]
  },
  {
   "cell_type": "code",
   "execution_count": 42,
   "id": "8441d2f7-2dd9-40e8-95e8-5eb51ea97e24",
   "metadata": {},
   "outputs": [
    {
     "data": {
      "text/plain": [
       "array([[[ 0,  1,  2],\n",
       "        [ 3,  4,  5],\n",
       "        [ 6,  7,  8],\n",
       "        [ 9, 10, 11]],\n",
       "\n",
       "       [[12, 13, 14],\n",
       "        [15, 16, 17],\n",
       "        [18, 19, 20],\n",
       "        [21, 22, 23]]])"
      ]
     },
     "execution_count": 42,
     "metadata": {},
     "output_type": "execute_result"
    }
   ],
   "source": [
    "b=a.reshape(2,4,3)\n",
    "b"
   ]
  },
  {
   "cell_type": "code",
   "execution_count": 43,
   "id": "461b4422-ecc6-4919-bfdc-5144d08cf6ad",
   "metadata": {},
   "outputs": [
    {
     "data": {
      "text/plain": [
       "array([ 0,  1,  2,  3,  4,  5,  6,  7,  8,  9, 10, 11, 12, 13, 14, 15, 16,\n",
       "       17, 18, 19, 20, 21, 22, 23])"
      ]
     },
     "execution_count": 43,
     "metadata": {},
     "output_type": "execute_result"
    }
   ],
   "source": [
    "b.ravel()"
   ]
  },
  {
   "cell_type": "code",
   "execution_count": 44,
   "id": "7dad06d5-4aa2-4c39-ab04-2b05afbc4d16",
   "metadata": {},
   "outputs": [
    {
     "data": {
      "text/plain": [
       "array([ 0,  1,  2,  3,  4,  5,  6,  7,  8,  9, 10, 11, 12, 13, 14, 15, 16,\n",
       "       17, 18, 19, 20, 21, 22, 23])"
      ]
     },
     "execution_count": 44,
     "metadata": {},
     "output_type": "execute_result"
    }
   ],
   "source": [
    "a"
   ]
  },
  {
   "cell_type": "code",
   "execution_count": 47,
   "id": "a4e44fb4-4421-4eb1-9e4b-23fba4a2f46b",
   "metadata": {},
   "outputs": [
    {
     "data": {
      "text/plain": [
       "<function print(*args, sep=' ', end='\\n', file=None, flush=False)>"
      ]
     },
     "execution_count": 47,
     "metadata": {},
     "output_type": "execute_result"
    }
   ],
   "source": [
    "a=np.array([[1,2],[3,4]])\n",
    "b=np.array([[5,6],[6,7]])\n",
    "\n"
   ]
  },
  {
   "cell_type": "code",
   "execution_count": 48,
   "id": "9d786aa0-cbdf-4c32-aaac-e7b1a3339856",
   "metadata": {},
   "outputs": [
    {
     "data": {
      "text/plain": [
       "array([[1, 2],\n",
       "       [3, 4]])"
      ]
     },
     "execution_count": 48,
     "metadata": {},
     "output_type": "execute_result"
    }
   ],
   "source": [
    "a"
   ]
  },
  {
   "cell_type": "code",
   "execution_count": 49,
   "id": "0ebfc672-7825-4a87-bdd9-f4ab2e9fca86",
   "metadata": {},
   "outputs": [
    {
     "data": {
      "text/plain": [
       "array([[5, 6],\n",
       "       [6, 7]])"
      ]
     },
     "execution_count": 49,
     "metadata": {},
     "output_type": "execute_result"
    }
   ],
   "source": [
    "b"
   ]
  },
  {
   "cell_type": "code",
   "execution_count": 51,
   "id": "d9b2c387-0881-4e18-8ce6-2f44d107db2e",
   "metadata": {},
   "outputs": [
    {
     "data": {
      "text/plain": [
       "array([[1, 2],\n",
       "       [3, 4],\n",
       "       [5, 6],\n",
       "       [6, 7]])"
      ]
     },
     "execution_count": 51,
     "metadata": {},
     "output_type": "execute_result"
    }
   ],
   "source": [
    "np.concatenate((a,b),axis=0)"
   ]
  },
  {
   "cell_type": "code",
   "execution_count": 52,
   "id": "9f757f26-4e95-4db7-b17a-ebe1c812c130",
   "metadata": {},
   "outputs": [
    {
     "data": {
      "text/plain": [
       "array([[1, 2, 5, 6],\n",
       "       [3, 4, 6, 7]])"
      ]
     },
     "execution_count": 52,
     "metadata": {},
     "output_type": "execute_result"
    }
   ],
   "source": [
    "np.concatenate((a,b),axis=1)"
   ]
  },
  {
   "cell_type": "code",
   "execution_count": 53,
   "id": "2edcd09c-4d57-4590-915c-9c757b125016",
   "metadata": {},
   "outputs": [
    {
     "data": {
      "text/plain": [
       "[array([0, 1, 2, 3]), array([4, 5, 6, 7]), array([ 8,  9, 10, 11])]"
      ]
     },
     "execution_count": 53,
     "metadata": {},
     "output_type": "execute_result"
    }
   ],
   "source": [
    "a=np.arange(12)\n",
    "np.split(a,3)"
   ]
  },
  {
   "cell_type": "code",
   "execution_count": 54,
   "id": "80415b20-bd15-4d67-9f8f-9edebb3649a8",
   "metadata": {},
   "outputs": [
    {
     "data": {
      "text/plain": [
       "array([1, 2, 3, 4, 5, 6, 7, 8, 9])"
      ]
     },
     "execution_count": 54,
     "metadata": {},
     "output_type": "execute_result"
    }
   ],
   "source": [
    "a=np.array([[1,2,3],[4,5,6]])\n",
    "np.append(a,[7,8,9])"
   ]
  },
  {
   "cell_type": "code",
   "execution_count": null,
   "id": "0cdcdc6b-7f36-4ead-83c8-3151a881bccf",
   "metadata": {},
   "outputs": [],
   "source": []
  },
  {
   "cell_type": "code",
   "execution_count": null,
   "id": "d0629b17-f03c-4fbe-901d-2d94c5e841a2",
   "metadata": {},
   "outputs": [],
   "source": []
  }
 ],
 "metadata": {
  "kernelspec": {
   "display_name": "Python 3 (ipykernel)",
   "language": "python",
   "name": "python3"
  },
  "language_info": {
   "codemirror_mode": {
    "name": "ipython",
    "version": 3
   },
   "file_extension": ".py",
   "mimetype": "text/x-python",
   "name": "python",
   "nbconvert_exporter": "python",
   "pygments_lexer": "ipython3",
   "version": "3.11.7"
  }
 },
 "nbformat": 4,
 "nbformat_minor": 5
}
