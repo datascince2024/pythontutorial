{
 "cells": [
  {
   "cell_type": "code",
   "execution_count": 1,
   "id": "77a550cb-d961-48a7-9b55-13e17303480e",
   "metadata": {},
   "outputs": [
    {
     "name": "stdout",
     "output_type": "stream",
     "text": [
      "[23, 34, 45, 56, 67, 78, 89]\n",
      "[23, 34, 45, 67, 78, 89]\n"
     ]
    }
   ],
   "source": [
    "# remove the any one element in list\n",
    "\n",
    "x=[23,34,45,56,67,78,89,]\n",
    "print(x)\n",
    "x.remove(56)\n",
    "print(x)"
   ]
  },
  {
   "cell_type": "code",
   "execution_count": 9,
   "id": "534582c8-afea-4dd3-a090-a5165854de06",
   "metadata": {},
   "outputs": [
    {
     "name": "stdout",
     "output_type": "stream",
     "text": [
      "[23, 34, 45, 56, 566, 67, 78, 78, 77]\n",
      "[23, 34, 45, 56, 566, 67, 78, 78, 77, 98]\n",
      "[23, 34, 45, 56, 566, 67, 78, 78, 77, 98, ['hello', 'how', 'are']]\n"
     ]
    }
   ],
   "source": [
    "# list method ------\n",
    "\n",
    "#append()\n",
    "\n",
    "m=[23,34,45,56,566,67,78,78,77]\n",
    "print(m)\n",
    "m.append(98)\n",
    "print(m)\n",
    "m.append([\"hello\",\"how\",\"are\"])\n",
    "print(m)"
   ]
  },
  {
   "cell_type": "code",
   "execution_count": 12,
   "id": "35414612-95bb-454a-88c4-e9399daea85d",
   "metadata": {},
   "outputs": [
    {
     "name": "stdin",
     "output_type": "stream",
     "text": [
      "enter the number 4\n"
     ]
    },
    {
     "name": "stdout",
     "output_type": "stream",
     "text": [
      "[4]\n"
     ]
    },
    {
     "name": "stdin",
     "output_type": "stream",
     "text": [
      "enter the number 23\n"
     ]
    },
    {
     "name": "stdout",
     "output_type": "stream",
     "text": [
      "[4, 23]\n"
     ]
    },
    {
     "name": "stdin",
     "output_type": "stream",
     "text": [
      "enter the number 43\n"
     ]
    },
    {
     "name": "stdout",
     "output_type": "stream",
     "text": [
      "[4, 23, 43]\n"
     ]
    },
    {
     "name": "stdin",
     "output_type": "stream",
     "text": [
      "enter the number 1\n"
     ]
    },
    {
     "name": "stdout",
     "output_type": "stream",
     "text": [
      "[4, 23, 43, 1]\n"
     ]
    },
    {
     "name": "stdin",
     "output_type": "stream",
     "text": [
      "enter the number 45\n"
     ]
    },
    {
     "name": "stdout",
     "output_type": "stream",
     "text": [
      "[4, 23, 43, 1, 45]\n"
     ]
    },
    {
     "name": "stdin",
     "output_type": "stream",
     "text": [
      "enter the number 67\n"
     ]
    },
    {
     "name": "stdout",
     "output_type": "stream",
     "text": [
      "[4, 23, 43, 1, 45, 67]\n"
     ]
    },
    {
     "name": "stdin",
     "output_type": "stream",
     "text": [
      "enter the number 8\n"
     ]
    },
    {
     "name": "stdout",
     "output_type": "stream",
     "text": [
      "[4, 23, 43, 1, 45, 67, 8]\n"
     ]
    },
    {
     "name": "stdin",
     "output_type": "stream",
     "text": [
      "enter the number 99\n"
     ]
    },
    {
     "name": "stdout",
     "output_type": "stream",
     "text": [
      "[4, 23, 43, 1, 45, 67, 8, 99]\n"
     ]
    },
    {
     "name": "stdin",
     "output_type": "stream",
     "text": [
      "enter the number 8\n"
     ]
    },
    {
     "name": "stdout",
     "output_type": "stream",
     "text": [
      "[4, 23, 43, 1, 45, 67, 8, 99, 8]\n"
     ]
    },
    {
     "name": "stdin",
     "output_type": "stream",
     "text": [
      "enter the number 78\n"
     ]
    },
    {
     "name": "stdout",
     "output_type": "stream",
     "text": [
      "[4, 23, 43, 1, 45, 67, 8, 99, 8, 78]\n"
     ]
    }
   ],
   "source": [
    "# make the list of 10 interger of your choice\n",
    "\n",
    "x=[]\n",
    "\n",
    "for i in range(10):\n",
    "    n=int(input(\"enter the number\"))\n",
    "    x.append(n)\n",
    "    print(x)"
   ]
  },
  {
   "cell_type": "code",
   "execution_count": 13,
   "id": "5380b68a-8493-42d3-a988-d3e8fb21dfa7",
   "metadata": {},
   "outputs": [
    {
     "name": "stdin",
     "output_type": "stream",
     "text": [
      "enter the number 6\n",
      "enter the number 45\n",
      "enter the number 44\n",
      "enter the number 56\n",
      "enter the number 56\n"
     ]
    },
    {
     "name": "stdout",
     "output_type": "stream",
     "text": [
      "[6, 45, 44, 56, 56]\n",
      "the sum of list is 207\n"
     ]
    }
   ],
   "source": [
    "# sum of the 5 intergers of own choice\n",
    "\n",
    "x=[]\n",
    "\n",
    "for i in range(5):\n",
    "    n=int(input(\"enter the number\"))\n",
    "    x.append(n)\n",
    "print(x)\n",
    "print(\"the sum of list is\",sum(x))"
   ]
  },
  {
   "cell_type": "code",
   "execution_count": 14,
   "id": "ba3268b1-708f-45ec-9a0b-6f051d1f1dc7",
   "metadata": {},
   "outputs": [
    {
     "name": "stdout",
     "output_type": "stream",
     "text": [
      "original list [0, 1, 2, 3, 4, 5, 6, 7, 8, 9, 10, 11, 12, 13, 14, 15, 16, 17, 18, 19, 20, 21, 22, 23, 24, 25, 26, 27, 28, 29, 30, 31, 32, 33, 34, 35, 36, 37, 38, 39, 40, 41, 42, 43, 44, 45, 46, 47, 48, 49]\n",
      "even list [0, 2, 4, 6, 8, 10, 12, 14, 16, 18, 20, 22, 24, 26, 28, 30, 32, 34, 36, 38, 40, 42, 44, 46, 48]\n",
      "odd list [1, 3, 5, 7, 9, 11, 13, 15, 17, 19, 21, 23, 25, 27, 29, 31, 33, 35, 37, 39, 41, 43, 45, 47, 49]\n"
     ]
    }
   ],
   "source": [
    "# make the list of odd and evn number separtely\n",
    "\n",
    "x=[]\n",
    "x_e=[]\n",
    "x_o=[]\n",
    "for i in range(50):\n",
    "    x.append(i)\n",
    "print(\"original list\",x)\n",
    "\n",
    "for i in x:\n",
    "    if i%2==0:\n",
    "        x_e.append(i)\n",
    "    else:\n",
    "        x_o.append(i)\n",
    "print(\"even list\",x_e)\n",
    "print(\"odd list\",x_o)\n",
    "        "
   ]
  },
  {
   "cell_type": "code",
   "execution_count": 16,
   "id": "be2d4575-0315-4cb9-a00c-6efdd2db9863",
   "metadata": {},
   "outputs": [
    {
     "name": "stdin",
     "output_type": "stream",
     "text": [
      "enter the number 34\n",
      "enter the number 76\n",
      "enter the number 98\n",
      "enter the number 87\n",
      "enter the number 56\n"
     ]
    },
    {
     "name": "stdout",
     "output_type": "stream",
     "text": [
      "[34, 76, 98, 87, 56]\n",
      "max element is 98\n"
     ]
    }
   ],
   "source": [
    "# find the maximum element in the list\n",
    "\n",
    "x=[]\n",
    "for i in range(5):\n",
    "    n=int(input(\"enter the number\"))\n",
    "    x.append(n)\n",
    "print(x)\n",
    "print(\"max element is\",max(x))"
   ]
  },
  {
   "cell_type": "code",
   "execution_count": 17,
   "id": "39d28994-69d6-46b6-8086-b9c75a2aeafc",
   "metadata": {},
   "outputs": [
    {
     "name": "stdin",
     "output_type": "stream",
     "text": [
      "enter the number 76\n",
      "enter the number 44\n",
      "enter the number 5\n",
      "enter the number 346\n",
      "enter the number 36\n",
      "enter the number 335\n"
     ]
    },
    {
     "name": "stdout",
     "output_type": "stream",
     "text": [
      "[76, 44, 5, 346, 36, 335]\n",
      "min element is 5\n"
     ]
    }
   ],
   "source": [
    "# find the manimum element in the list\n",
    "\n",
    "x=[]\n",
    "for i in range(6):\n",
    "    n=int(input(\"enter the number\"))\n",
    "    x.append(n)\n",
    "print(x)\n",
    "print(\"min element is\",min(x))"
   ]
  },
  {
   "cell_type": "code",
   "execution_count": 18,
   "id": "fe426345-40ca-47a1-897c-5cdad5a194bc",
   "metadata": {},
   "outputs": [
    {
     "name": "stdout",
     "output_type": "stream",
     "text": [
      "[23, 34, 45, 56, 67, 78, 789]\n",
      "[23, 34, 45, 56, 67, 78, 789, 98, 76, 54, 32]\n"
     ]
    }
   ],
   "source": [
    "# extend------\n",
    "\n",
    "x=[23,34,45,56,67,78,789]\n",
    "print(x)\n",
    "x.extend([98,76,54,32])\n",
    "print(x)"
   ]
  },
  {
   "cell_type": "code",
   "execution_count": 20,
   "id": "fe3adff9-5801-47c0-a94d-4f191085e5d5",
   "metadata": {},
   "outputs": [
    {
     "name": "stdout",
     "output_type": "stream",
     "text": [
      "[1, 2, 3, 4, 5, 6, 9, 6, 8, 7, 67, 76, 87]\n"
     ]
    }
   ],
   "source": [
    "#concatenate\n",
    "\n",
    "a=[1,2,3,4,5,6]\n",
    "b=[9,6,8,7,67,76,87]\n",
    "c=a+b\n",
    "print(c)"
   ]
  },
  {
   "cell_type": "code",
   "execution_count": null,
   "id": "89db6797-b8ef-4203-9911-2584fe4283db",
   "metadata": {},
   "outputs": [],
   "source": [
    "a=[22,33,44,55,"
   ]
  },
  {
   "cell_type": "code",
   "execution_count": null,
   "id": "528c8031-e5a1-4cac-83f6-a5bcff23683e",
   "metadata": {},
   "outputs": [],
   "source": []
  }
 ],
 "metadata": {
  "kernelspec": {
   "display_name": "Python 3 (ipykernel)",
   "language": "python",
   "name": "python3"
  },
  "language_info": {
   "codemirror_mode": {
    "name": "ipython",
    "version": 3
   },
   "file_extension": ".py",
   "mimetype": "text/x-python",
   "name": "python",
   "nbconvert_exporter": "python",
   "pygments_lexer": "ipython3",
   "version": "3.11.7"
  }
 },
 "nbformat": 4,
 "nbformat_minor": 5
}
